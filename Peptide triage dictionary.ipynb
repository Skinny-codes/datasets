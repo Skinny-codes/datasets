{
 "cells": [
  {
   "cell_type": "code",
   "execution_count": 10,
   "metadata": {},
   "outputs": [],
   "source": [
    "#list of peptides to go here\n",
    "peptide_dic = {1: \"QATATATATATATATARAR\", 2: \"ATATATATATATAG\", 3: \"ATATATATATATDNATAT\", 4: \"ATATATATATAPATAT\", 5: \"ATATATATATATATATATATATATP\", 6: \"ATATATATATATATDGAT\", 7: \"ATATATATATATDRATATAT\", 8: \"ATATATATATATH\"}"
   ]
  },
  {
   "cell_type": "code",
   "execution_count": 11,
   "metadata": {},
   "outputs": [],
   "source": [
    "#empty list to have manufacturable peptides added to. \n",
    "updated_peptide_dic = {}"
   ]
  },
  {
   "cell_type": "code",
   "execution_count": 13,
   "metadata": {},
   "outputs": [],
   "source": [
    "#Function to search the peptides to see if they contain DD, DN, DR, DG, or start with Q, or end with C, H, or P\n",
    "#Assuming none of those are met, add the peptide to an \"updated list\"\n",
    "def peptide_triage(peptide_dic):\n",
    "    for peptide in peptide_dic: \n",
    "        if \"DD\" in peptide:\n",
    "            peptide_dic.pop(peptide)\n",
    "        elif \"DN\" in peptide:\n",
    "            peptide_dic.pop(peptide)\n",
    "        elif \"DG\" in peptide:\n",
    "            peptide_dic.pop(peptide)\n",
    "        elif \"DR\" in peptide:\n",
    "            peptide_dic.pop(peptide) \n",
    "        elif peptide[0] == \"Q\":\n",
    "            peptide_dic.pop(peptide)\n",
    "        elif peptide[-1] == \"C\":\n",
    "            peptide_dic.pop(peptide)\n",
    "        elif peptide[-1] == \"H\":\n",
    "            peptide_dic.pop(peptide)\n",
    "        elif peptide[-1] == \"P\":\n",
    "            peptide_dic.pop(peptide)"
   ]
  },
  {
   "cell_type": "code",
   "execution_count": 14,
   "metadata": {},
   "outputs": [
    {
     "ename": "TypeError",
     "evalue": "argument of type 'int' is not iterable",
     "output_type": "error",
     "traceback": [
      "\u001b[0;31m---------------------------------------------------------------------------\u001b[0m",
      "\u001b[0;31mTypeError\u001b[0m                                 Traceback (most recent call last)",
      "\u001b[0;32m<ipython-input-14-4e9d782536e7>\u001b[0m in \u001b[0;36m<module>\u001b[0;34m\u001b[0m\n\u001b[1;32m      1\u001b[0m \u001b[0;31m#run the function\u001b[0m\u001b[0;34m\u001b[0m\u001b[0;34m\u001b[0m\u001b[0;34m\u001b[0m\u001b[0m\n\u001b[0;32m----> 2\u001b[0;31m \u001b[0mpeptide_triage\u001b[0m\u001b[0;34m(\u001b[0m\u001b[0mpeptide_dic\u001b[0m\u001b[0;34m)\u001b[0m\u001b[0;34m\u001b[0m\u001b[0;34m\u001b[0m\u001b[0m\n\u001b[0m",
      "\u001b[0;32m<ipython-input-13-39aee846258a>\u001b[0m in \u001b[0;36mpeptide_triage\u001b[0;34m(peptide_dic)\u001b[0m\n\u001b[1;32m      3\u001b[0m \u001b[0;32mdef\u001b[0m \u001b[0mpeptide_triage\u001b[0m\u001b[0;34m(\u001b[0m\u001b[0mpeptide_dic\u001b[0m\u001b[0;34m)\u001b[0m\u001b[0;34m:\u001b[0m\u001b[0;34m\u001b[0m\u001b[0;34m\u001b[0m\u001b[0m\n\u001b[1;32m      4\u001b[0m     \u001b[0;32mfor\u001b[0m \u001b[0mpeptide\u001b[0m \u001b[0;32min\u001b[0m \u001b[0mpeptide_dic\u001b[0m\u001b[0;34m:\u001b[0m\u001b[0;34m\u001b[0m\u001b[0;34m\u001b[0m\u001b[0m\n\u001b[0;32m----> 5\u001b[0;31m         \u001b[0;32mif\u001b[0m \u001b[0;34m\"DD\"\u001b[0m \u001b[0;32min\u001b[0m \u001b[0mpeptide\u001b[0m\u001b[0;34m:\u001b[0m\u001b[0;34m\u001b[0m\u001b[0;34m\u001b[0m\u001b[0m\n\u001b[0m\u001b[1;32m      6\u001b[0m             \u001b[0mpeptide_dic\u001b[0m\u001b[0;34m.\u001b[0m\u001b[0mpop\u001b[0m\u001b[0;34m(\u001b[0m\u001b[0mpeptide\u001b[0m\u001b[0;34m)\u001b[0m\u001b[0;34m\u001b[0m\u001b[0;34m\u001b[0m\u001b[0m\n\u001b[1;32m      7\u001b[0m         \u001b[0;32melif\u001b[0m \u001b[0;34m\"DN\"\u001b[0m \u001b[0;32min\u001b[0m \u001b[0mpeptide\u001b[0m\u001b[0;34m:\u001b[0m\u001b[0;34m\u001b[0m\u001b[0;34m\u001b[0m\u001b[0m\n",
      "\u001b[0;31mTypeError\u001b[0m: argument of type 'int' is not iterable"
     ]
    }
   ],
   "source": [
    "#run the function\n",
    "peptide_triage(peptide_dic)"
   ]
  },
  {
   "cell_type": "code",
   "execution_count": 5,
   "metadata": {},
   "outputs": [
    {
     "name": "stdout",
     "output_type": "stream",
     "text": [
      "dict_values(['QATATATATATATATARAR', 'ATATATATATATAG', 'ATATATATATATDNATAT', 'ATATATATATAPATAT', 'ATATATATATATATATATATATATP', 'ATATATATATATATDGAT', 'ATATATATATATDRATATAT', 'ATATATATATATH'])\n"
     ]
    }
   ],
   "source": [
    "print(peptide_dic.values())"
   ]
  }
 ],
 "metadata": {
  "kernelspec": {
   "display_name": "Python 3",
   "language": "python",
   "name": "python3"
  },
  "language_info": {
   "codemirror_mode": {
    "name": "ipython",
    "version": 3
   },
   "file_extension": ".py",
   "mimetype": "text/x-python",
   "name": "python",
   "nbconvert_exporter": "python",
   "pygments_lexer": "ipython3",
   "version": "3.8.5"
  }
 },
 "nbformat": 4,
 "nbformat_minor": 4
}
