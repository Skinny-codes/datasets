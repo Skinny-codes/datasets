{
 "cells": [
  {
   "cell_type": "code",
   "execution_count": 1,
   "metadata": {},
   "outputs": [],
   "source": [
    "#list of peptides to go here\n",
    "peptide_list = [\"QATATATATATATATARAR\", \"ATATATATATATAG\", \"ATATATATATATDNATAT\", \"ATATATATATAPATAT\", \"ATATATATATATATATATATATATP\", \"ATATATATATATATDGAT\", \"ATATATATATATDRATATAT\", \"ATATATATATATH\"]"
   ]
  },
  {
   "cell_type": "code",
   "execution_count": 2,
   "metadata": {},
   "outputs": [],
   "source": [
    "#empty list to have manufacturable peptides added to. \n",
    "updated_peptide_lst = []"
   ]
  },
  {
   "cell_type": "code",
   "execution_count": 3,
   "metadata": {},
   "outputs": [],
   "source": [
    "#Function to search the peptides to see if they contain DD, DN, DR, DG, or start with Q, or end with C, H, or P\n",
    "#Assuming none of those are met, add the peptide to an \"updated list\"\n",
    "def peptide_triage(peptide_list):\n",
    "    for peptide in peptide_list: \n",
    "        if \"DD\" in peptide:\n",
    "            continue\n",
    "        elif \"DN\" in peptide:\n",
    "            continue\n",
    "        elif \"DG\" in peptide:\n",
    "            continue\n",
    "        elif \"DR\" in peptide:\n",
    "            continue \n",
    "        elif peptide[0] == \"Q\":\n",
    "            continue\n",
    "        elif peptide[-1] == \"C\":\n",
    "            continue\n",
    "        elif peptide[-1] == \"H\":\n",
    "            continue\n",
    "        elif peptide[-1] == \"P\":\n",
    "            continue \n",
    "        else: \n",
    "            updated_peptide_lst.append(peptide)\n",
    "    return updated_peptide_lst"
   ]
  },
  {
   "cell_type": "code",
   "execution_count": 4,
   "metadata": {},
   "outputs": [
    {
     "data": {
      "text/plain": [
       "['ATATATATATATAG', 'ATATATATATAPATAT']"
      ]
     },
     "execution_count": 4,
     "metadata": {},
     "output_type": "execute_result"
    }
   ],
   "source": [
    "#run the function\n",
    "peptide_triage(peptide_list)"
   ]
  },
  {
   "cell_type": "code",
   "execution_count": 5,
   "metadata": {},
   "outputs": [
    {
     "name": "stdout",
     "output_type": "stream",
     "text": [
      "['ATATATATATATAG', 'ATATATATATAPATAT']\n"
     ]
    }
   ],
   "source": [
    "print(updated_peptide_lst)"
   ]
  }
 ],
 "metadata": {
  "kernelspec": {
   "display_name": "Python 3",
   "language": "python",
   "name": "python3"
  },
  "language_info": {
   "codemirror_mode": {
    "name": "ipython",
    "version": 3
   },
   "file_extension": ".py",
   "mimetype": "text/x-python",
   "name": "python",
   "nbconvert_exporter": "python",
   "pygments_lexer": "ipython3",
   "version": "3.8.5"
  }
 },
 "nbformat": 4,
 "nbformat_minor": 4
}
