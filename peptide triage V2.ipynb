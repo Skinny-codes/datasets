{
 "cells": [
  {
   "cell_type": "code",
   "execution_count": 5,
   "metadata": {},
   "outputs": [],
   "source": [
    "#list of peptides to go here\n",
    "peptide_list = [\"ATATATATATATATQ\", \"ATATATATATATAT\", \"ATATATATATATDNATAT\", \"ATATATATATATATAT\", \"ATATATATATATATATATATATAT\", \"ATATATATATATATDGAT\", \"ATATATATATATDRATATAT\", \"ATATATATATAT\"]"
   ]
  },
  {
   "cell_type": "code",
   "execution_count": 6,
   "metadata": {},
   "outputs": [],
   "source": [
    "#empty list to have manufacturable peptides added to. \n",
    "updated_peptide_lst = []"
   ]
  },
  {
   "cell_type": "code",
   "execution_count": 7,
   "metadata": {},
   "outputs": [],
   "source": [
    "#Trying to write a function that will search the peptides to see if they contain the letters DD, DN, DR, DG, or start with Q, or end with C, H, or P\n",
    "#Assuming none of those are met, add the peptide to an \"updated list\"\n",
    "def peptide_triage(peptide_list):\n",
    "    for peptide in peptide_list:\n",
    "        if peptide[0] == \"Q\":\n",
    "            continue\n",
    "        elif peptide[-1] == \"C\":\n",
    "            continue\n",
    "        elif peptide[-1] == \"H\":\n",
    "            continue\n",
    "        elif peptide[-1] == \"P\":\n",
    "            continue\n",
    "        elif \"DD\" in peptide:\n",
    "            continue\n",
    "        elif \"DN\" in peptide:\n",
    "            continue\n",
    "        elif \"DG\" in peptide:\n",
    "            continue\n",
    "        elif \"DR\" in peptide:\n",
    "            continue\n",
    "        else:\n",
    "            updated_peptide_lst.append(peptide)"
   ]
  },
  {
   "cell_type": "code",
   "execution_count": 8,
   "metadata": {},
   "outputs": [
    {
     "name": "stdout",
     "output_type": "stream",
     "text": [
      "None\n"
     ]
    }
   ],
   "source": [
    "#run the function and print the output\n",
    "print(peptide_triage(peptide_list))"
   ]
  }
 ],
 "metadata": {
  "kernelspec": {
   "display_name": "Python 3",
   "language": "python",
   "name": "python3"
  },
  "language_info": {
   "codemirror_mode": {
    "name": "ipython",
    "version": 3
   },
   "file_extension": ".py",
   "mimetype": "text/x-python",
   "name": "python",
   "nbconvert_exporter": "python",
   "pygments_lexer": "ipython3",
   "version": "3.8.5"
  }
 },
 "nbformat": 4,
 "nbformat_minor": 4
}
